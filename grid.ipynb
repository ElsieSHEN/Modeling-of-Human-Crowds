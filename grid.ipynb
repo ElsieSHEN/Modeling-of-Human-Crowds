{
 "cells": [
  {
   "cell_type": "code",
   "execution_count": 1,
   "metadata": {},
   "outputs": [],
   "source": [
    "import turtle"
   ]
  },
  {
   "cell_type": "code",
   "execution_count": 2,
   "metadata": {},
   "outputs": [],
   "source": [
    "n = 50\n",
    "x = -100 \n",
    "y = -100 \n",
    " \n",
    "turtle.speed(9)\n",
    " \n",
    "turtle.screensize(400, 400)\n",
    "turtle.penup()\n",
    "turtle.pencolor('black')\n",
    " \n",
    "def draw_grid():\n",
    "    for i in range(6):\n",
    "        turtle.goto(x, y + n * i)\n",
    "        turtle.pendown()\n",
    "        turtle.forward(5 * n)  \n",
    "        turtle.penup()\n",
    "    \n",
    "    turtle.left(90)\n",
    "    for i in range(6):\n",
    "        turtle.goto(x + n * i, y)\n",
    "        turtle.pendown()\n",
    "        turtle.forward(5 * n)\n",
    "        turtle.penup()\n",
    "    turtle.hideturtle()"
   ]
  },
  {
   "cell_type": "code",
   "execution_count": 3,
   "metadata": {},
   "outputs": [],
   "source": [
    "def color_p(x, y):\n",
    "    turtle.goto(x, y)\n",
    "    turtle.fillcolor('red')\n",
    "    turtle.begin_fill()\n",
    "    for _ in range(4):       \n",
    "        turtle.left(90)\n",
    "        turtle.backward(n)\n",
    "    turtle.end_fill()\n",
    "    turtle.hideturtle()"
   ]
  },
  {
   "cell_type": "code",
   "execution_count": 4,
   "metadata": {},
   "outputs": [],
   "source": [
    "def color_t(x, y):\n",
    "    turtle.goto(x, y)\n",
    "    turtle.fillcolor('orange')\n",
    "    turtle.begin_fill()\n",
    "    for _ in range(4):       \n",
    "        turtle.left(90)\n",
    "        turtle.backward(n)\n",
    "    turtle.end_fill()"
   ]
  },
  {
   "cell_type": "code",
   "execution_count": 5,
   "metadata": {},
   "outputs": [],
   "source": [
    "draw_grid()\n",
    "color_p(-100, -100)\n",
    "color_t(-50, -50)\n",
    "turtle.done()"
   ]
  }
 ],
 "metadata": {
  "language_info": {
   "codemirror_mode": {
    "name": "ipython",
    "version": 3
   },
   "file_extension": ".py",
   "mimetype": "text/x-python",
   "name": "python",
   "nbconvert_exporter": "python",
   "pygments_lexer": "ipython3",
   "version": "3.7.3-final"
  },
  "orig_nbformat": 2,
  "kernelspec": {
   "name": "python37364bitpytorchconda1545031e98af432db1e61eacbd344185",
   "display_name": "Python 3.7.3 64-bit ('pytorch': conda)"
  }
 },
 "nbformat": 4,
 "nbformat_minor": 2
}
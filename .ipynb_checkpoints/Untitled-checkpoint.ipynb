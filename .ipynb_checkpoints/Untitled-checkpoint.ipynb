{
 "cells": [
  {
   "cell_type": "code",
   "execution_count": null,
   "metadata": {},
   "outputs": [],
   "source": [
    "import turtle\n",
    "import numpy as np\n",
    "import math\n",
    "import draw_grid as dg\n",
    "import matplotlib.pyplot as plt\n",
    "import matplotlib.animation as animation\n",
    "from utils import *\n",
    "\n",
    "# 0: empty cell\n",
    "# 1: pedestrian\n",
    "# 2: obstacle\n",
    "# 3: target\n",
    "\n",
    "# remove: 1-remove cell after reach target / 0-don't remove\n",
    "\n",
    "# dijk: 1-Dijkstra algorithm / 0-Distances matrix\n",
    "\n",
    "\n",
    "task3 = Cellular(50, method='avoidance', pedestrian=[])\n",
    "\n",
    "#dg.init_grid(50)\n",
    "task3.set_pedestrian(10, 25)\n",
    "task3.set_pedestrian(25, 10)\n",
    "task3.set_pedestrian(40, 25)\n",
    "task3.set_pedestrian(40, 40) # for this pedestrian, step size is sqrt(2)\n",
    "task3.set_pedestrian(25, 40)\n",
    "\n",
    "task3.set_target(25, 25)\n",
    "\n",
    "#for i in range(10):\n",
    "#    for p in task3.pedestrian:\n",
    "#        task3.next_step(p, 50, rmax=4)\n",
    "#turtle.done()\n",
    "\n",
    "%matplotlib notebook\n",
    "task3.set_board()\n",
    "my_board = np.transpose(task3.grid)\n",
    "fig = plt.gcf()\n",
    "im = plt.imshow(my_board)\n",
    "plt.show()\n",
    "\n",
    "def animate(frame):\n",
    "    im.set_data(task3.update_board(rmax=4))\n",
    "    return im,\n",
    "\n",
    "anim = animation.FuncAnimation(fig, animate, frames=200, \n",
    "                               interval=50)"
   ]
  }
 ],
 "metadata": {
  "kernelspec": {
   "display_name": "Python 3",
   "language": "python",
   "name": "python3"
  },
  "language_info": {
   "codemirror_mode": {
    "name": "ipython",
    "version": 3
   },
   "file_extension": ".py",
   "mimetype": "text/x-python",
   "name": "python",
   "nbconvert_exporter": "python",
   "pygments_lexer": "ipython3",
   "version": "3.7.4"
  },
  "varInspector": {
   "cols": {
    "lenName": 16,
    "lenType": 16,
    "lenVar": 40
   },
   "kernels_config": {
    "python": {
     "delete_cmd_postfix": "",
     "delete_cmd_prefix": "del ",
     "library": "var_list.py",
     "varRefreshCmd": "print(var_dic_list())"
    },
    "r": {
     "delete_cmd_postfix": ") ",
     "delete_cmd_prefix": "rm(",
     "library": "var_list.r",
     "varRefreshCmd": "cat(var_dic_list()) "
    }
   },
   "types_to_exclude": [
    "module",
    "function",
    "builtin_function_or_method",
    "instance",
    "_Feature"
   ],
   "window_display": false
  }
 },
 "nbformat": 4,
 "nbformat_minor": 2
}
